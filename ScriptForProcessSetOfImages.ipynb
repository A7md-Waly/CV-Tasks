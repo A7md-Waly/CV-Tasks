{
 "cells": [
  {
   "cell_type": "code",
   "execution_count": null,
   "id": "08309454",
   "metadata": {},
   "outputs": [],
   "source": [
    "import numpy as np\n",
    "import cv2\n",
    "import os"
   ]
  },
  {
   "cell_type": "code",
   "execution_count": null,
   "id": "3978c2b1",
   "metadata": {},
   "outputs": [],
   "source": [
    "def create_output_folders():\n",
    "    os.makedirs(\"out\")\n",
    "    os.chdir(r\"C:\\Users\\mwaly\\Desktop\\fold\\out\")\n",
    "    for fol in range(5):\n",
    "        os.makedirs(f\"out{fol + 1}\")"
   ]
  },
  {
   "cell_type": "code",
   "execution_count": null,
   "id": "eb8a65b0",
   "metadata": {},
   "outputs": [],
   "source": [
    "def process_image(input_path, output_path, filter_type, param1, param2, param3):\n",
    "    for im in range(1, 6):\n",
    "        img = cv2.imread(f\"{input_path}{im}/{im}.jpg\")\n",
    "        if filter_type == 'Gaussian':\n",
    "            result = np.hstack([cv2.GaussianBlur(img, (param1, param1), 0)])\n",
    "        elif filter_type == 'Bilateral':\n",
    "            result = np.hstack([cv2.bilateralFilter(img, param1, param2, param3)])\n",
    "        elif filter_type == 'Blur':\n",
    "            result = np.hstack([cv2.blur(img, (param1, param1))])\n",
    "        else:\n",
    "            raise ValueError(\"Invalid filter type\")\n",
    "            os.chdir(output_path)\n",
    "        cv2.imwrite(f\"{im}.jpg\", result)\n"
   ]
  },
  {
   "cell_type": "code",
   "execution_count": null,
   "id": "5d1af299",
   "metadata": {},
   "outputs": [],
   "source": [
    "def main():\n",
    "    create_output_folders()\n",
    "\n",
    "    input_folder_path = r\"C:\\Users\\mwaly\\Desktop\\folders\"\n",
    "\n",
    "    for folder_num in range(1, 6):\n",
    "        input_path = f\"{input_folder_path}{folder_num}/\"\n",
    "        output_path = fr'C:\\Users\\mwaly\\Desktop\\fold\\out{folder_num}/'\n",
    "\n",
    "        process_image(input_path, output_path, 'Gaussian', 13, 0, 0)\n",
    "        process_image(input_path, output_path, 'Bilateral', 17, 91, 91)\n",
    "        process_image(input_path, output_path, 'Blur', 13, 0, 0)\n",
    "\n",
    "if __name__ == \"__main__\":\n",
    "    main()"
   ]
  }
 ],
 "metadata": {
  "kernelspec": {
   "display_name": "Python 3 (ipykernel)",
   "language": "python",
   "name": "python3"
  },
  "language_info": {
   "codemirror_mode": {
    "name": "ipython",
    "version": 3
   },
   "file_extension": ".py",
   "mimetype": "text/x-python",
   "name": "python",
   "nbconvert_exporter": "python",
   "pygments_lexer": "ipython3",
   "version": "3.9.7"
  }
 },
 "nbformat": 4,
 "nbformat_minor": 5
}
