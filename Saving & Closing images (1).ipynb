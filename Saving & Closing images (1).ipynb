{
 "cells": [
  {
   "cell_type": "code",
   "execution_count": 2,
   "id": "c56a22f6",
   "metadata": {},
   "outputs": [],
   "source": [
    "import cv2"
   ]
  },
  {
   "cell_type": "code",
   "execution_count": 5,
   "id": "5b5d1690",
   "metadata": {},
   "outputs": [],
   "source": [
    "img = cv2.imread('mido.jpg', 2)\n",
    "new_img = cv2.resize(img, (500, 500))  # Resizing\n",
    "cv2.imshow('frame', new_img)\n",
    "k = cv2.waitKey(0)\n",
    "if k == ord('q'):\n",
    "    cv2.destroyAllWindows()\n",
    "elif k == ord('s'):\n",
    "    cv2.imwrite('C:/Users/mwaly/Pictures/new_image.jpg', new_img)\n",
    "    cv2.destroyAllWindows()"
   ]
  },
  {
   "cell_type": "code",
   "execution_count": null,
   "id": "6632fd4f",
   "metadata": {},
   "outputs": [],
   "source": []
  }
 ],
 "metadata": {
  "kernelspec": {
   "display_name": "Python 3 (ipykernel)",
   "language": "python",
   "name": "python3"
  },
  "language_info": {
   "codemirror_mode": {
    "name": "ipython",
    "version": 3
   },
   "file_extension": ".py",
   "mimetype": "text/x-python",
   "name": "python",
   "nbconvert_exporter": "python",
   "pygments_lexer": "ipython3",
   "version": "3.9.7"
  }
 },
 "nbformat": 4,
 "nbformat_minor": 5
}
